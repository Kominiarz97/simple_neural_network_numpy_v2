{
  "nbformat": 4,
  "nbformat_minor": 0,
  "metadata": {
    "colab": {
      "name": "simple_neural_network_numpy_v2.ipynb",
      "provenance": [],
      "authorship_tag": "ABX9TyMUz78a0HbyH1S5adKa/k2d",
      "include_colab_link": true
    },
    "kernelspec": {
      "name": "python3",
      "display_name": "Python 3"
    }
  },
  "cells": [
    {
      "cell_type": "markdown",
      "metadata": {
        "id": "view-in-github",
        "colab_type": "text"
      },
      "source": [
        "<a href=\"https://colab.research.google.com/github/Kominiarz97/simple_neural_network_numpy_v2/blob/master/simple_neural_network_numpy_v2.ipynb\" target=\"_parent\"><img src=\"https://colab.research.google.com/assets/colab-badge.svg\" alt=\"Open In Colab\"/></a>"
      ]
    },
    {
      "cell_type": "code",
      "metadata": {
        "id": "ucYhqyFYyAKj",
        "colab_type": "code",
        "colab": {}
      },
      "source": [
        "np.random.seed(1)\n",
        "syn0=2*np.random.random((3,4))-1\n",
        "syn1=2*np.random.random((4,1))-1"
      ],
      "execution_count": null,
      "outputs": []
    },
    {
      "cell_type": "code",
      "metadata": {
        "id": "99WrVpMij0R6",
        "colab_type": "code",
        "colab": {}
      },
      "source": [
        "import numpy as np\n",
        "\n",
        "X=np.array([[0,0,1],[0,1,1],[1,0,1],[1,1,1]])\n",
        "y_true=np.array([[0],[0],[1],[1]])"
      ],
      "execution_count": null,
      "outputs": []
    },
    {
      "cell_type": "code",
      "metadata": {
        "id": "5lD-G9sNmeKs",
        "colab_type": "code",
        "colab": {}
      },
      "source": [
        "def sigmoid(x,deriv=False):\n",
        "  if (deriv is True):\n",
        "    return (x*(1-x))\n",
        "  else:\n",
        "    return 1/(1+np.exp(-x))"
      ],
      "execution_count": null,
      "outputs": []
    },
    {
      "cell_type": "code",
      "metadata": {
        "id": "2_4wMdAKzAvk",
        "colab_type": "code",
        "colab": {
          "base_uri": "https://localhost:8080/",
          "height": 357
        },
        "outputId": "c19d8e91-b0e0-48d9-cdaa-055219c3c498"
      },
      "source": [
        "for epoch in range(50000):\n",
        "  l0=X\n",
        "  l1=sigmoid(np.dot(l0,syn0))\n",
        "  l2=sigmoid(np.dot(l1,syn1))\n",
        "\n",
        "  l2_error=y-l2\n",
        "  if(epoch%10000==0):\n",
        "    print(l2_error)\n",
        "  l2_delta=l2_error*sigmoid(l2,deriv=True)\n",
        "  l1_error=l2_delta.dot(syn1.T)\n",
        "  l1_delta=l1_error*sigmoid(l1,deriv=True)\n"
      ],
      "execution_count": null,
      "outputs": [
        {
          "output_type": "stream",
          "text": [
            "[[-0.00199093]\n",
            " [ 0.00248541]\n",
            " [ 0.002289  ]\n",
            " [-0.00294416]]\n",
            "[[-0.00199093]\n",
            " [ 0.00248541]\n",
            " [ 0.002289  ]\n",
            " [-0.00294416]]\n",
            "[[-0.00199093]\n",
            " [ 0.00248541]\n",
            " [ 0.002289  ]\n",
            " [-0.00294416]]\n",
            "[[-0.00199093]\n",
            " [ 0.00248541]\n",
            " [ 0.002289  ]\n",
            " [-0.00294416]]\n",
            "[[-0.00199093]\n",
            " [ 0.00248541]\n",
            " [ 0.002289  ]\n",
            " [-0.00294416]]\n"
          ],
          "name": "stdout"
        }
      ]
    },
    {
      "cell_type": "code",
      "metadata": {
        "id": "wDw3KyKt1YQO",
        "colab_type": "code",
        "colab": {
          "base_uri": "https://localhost:8080/",
          "height": 85
        },
        "outputId": "ae83d7f4-a5e4-4fdc-8bda-3b8a7204e827"
      },
      "source": [
        "print(l2)"
      ],
      "execution_count": null,
      "outputs": [
        {
          "output_type": "stream",
          "text": [
            "[[0.00199093]\n",
            " [0.99751459]\n",
            " [0.997711  ]\n",
            " [0.00294416]]\n"
          ],
          "name": "stdout"
        }
      ]
    },
    {
      "cell_type": "code",
      "metadata": {
        "id": "RfrLgzxQ17-f",
        "colab_type": "code",
        "colab": {
          "base_uri": "https://localhost:8080/",
          "height": 85
        },
        "outputId": "02e4af47-671b-47e0-c93d-7d49ea521ad4"
      },
      "source": [
        "for i in range(4):\n",
        "  if l2[i]<0.4:\n",
        "    l2[i]=0\n",
        "  elif l2[i]>=0.6:\n",
        "    l2[i]=1\n",
        "print(l2)"
      ],
      "execution_count": null,
      "outputs": [
        {
          "output_type": "stream",
          "text": [
            "[[0.]\n",
            " [1.]\n",
            " [1.]\n",
            " [0.]]\n"
          ],
          "name": "stdout"
        }
      ]
    }
  ]
}